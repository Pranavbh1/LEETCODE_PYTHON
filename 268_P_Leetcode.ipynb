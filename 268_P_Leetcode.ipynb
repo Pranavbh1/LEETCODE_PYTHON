{
 "cells": [
  {
   "cell_type": "markdown",
   "id": "ee01c5de",
   "metadata": {},
   "source": [
    "# Given an array nums containing n distinct numbers in the range [ 0 , n] , return the only (single) number in the range that is missing from the array ?"
   ]
  },
  {
   "cell_type": "code",
   "execution_count": 2,
   "id": "080cdb43",
   "metadata": {},
   "outputs": [],
   "source": [
    "import numpy as np"
   ]
  },
  {
   "cell_type": "code",
   "execution_count": 3,
   "id": "7480bc71",
   "metadata": {},
   "outputs": [
    {
     "name": "stdout",
     "output_type": "stream",
     "text": [
      "0,1\n",
      "Input: [0 1]\n",
      "Missing number : [2]\n"
     ]
    }
   ],
   "source": [
    "x = list(map(int,input().strip().split(',')))\n",
    "a = np.array(x)\n",
    "print(\"Input:\" , np.unique(a))\n",
    "z = []\n",
    "for i in range(0,len(a)+1):\n",
    "    if i not in x :\n",
    "        z.append(i)\n",
    "print(\"Missing number :\", z)"
   ]
  }
 ],
 "metadata": {
  "kernelspec": {
   "display_name": "Python 3 (ipykernel)",
   "language": "python",
   "name": "python3"
  },
  "language_info": {
   "codemirror_mode": {
    "name": "ipython",
    "version": 3
   },
   "file_extension": ".py",
   "mimetype": "text/x-python",
   "name": "python",
   "nbconvert_exporter": "python",
   "pygments_lexer": "ipython3",
   "version": "3.11.4"
  }
 },
 "nbformat": 4,
 "nbformat_minor": 5
}
