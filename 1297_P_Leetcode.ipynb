{
 "cells": [
  {
   "cell_type": "markdown",
   "id": "8263569c",
   "metadata": {},
   "source": [
    "# Q 8 ) Count the frequency of char in given string and point max occuring character ?   #1297"
   ]
  },
  {
   "cell_type": "code",
   "execution_count": 1,
   "id": "f78c9cac",
   "metadata": {},
   "outputs": [
    {
     "name": "stdout",
     "output_type": "stream",
     "text": [
      "abcdefgaa\n",
      "a\n"
     ]
    }
   ],
   "source": [
    "s =input()\n",
    "dict1 = {}\n",
    "max_count = 0\n",
    "max_char = ''\n",
    "for char in s:\n",
    "    if char not in dict1 :\n",
    "        dict1[char] = 1\n",
    "    else :\n",
    "        dict1[char] = dict1[char] + 1\n",
    "for key,value in dict1.items():\n",
    "    if value>max_count :\n",
    "        max_count = value\n",
    "        max_char = key\n",
    "print(max_char)"
   ]
  }
 ],
 "metadata": {
  "kernelspec": {
   "display_name": "Python 3 (ipykernel)",
   "language": "python",
   "name": "python3"
  },
  "language_info": {
   "codemirror_mode": {
    "name": "ipython",
    "version": 3
   },
   "file_extension": ".py",
   "mimetype": "text/x-python",
   "name": "python",
   "nbconvert_exporter": "python",
   "pygments_lexer": "ipython3",
   "version": "3.11.4"
  }
 },
 "nbformat": 4,
 "nbformat_minor": 5
}
