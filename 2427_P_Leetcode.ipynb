{
 "cells": [
  {
   "cell_type": "markdown",
   "id": "61f9f222",
   "metadata": {},
   "source": [
    "# Given two positive integers a and b, return the number of common factors of a and b. An integer x is a common factor of a and b if x divides both a and b."
   ]
  },
  {
   "cell_type": "code",
   "execution_count": 1,
   "id": "6c9d4087",
   "metadata": {},
   "outputs": [
    {
     "name": "stdout",
     "output_type": "stream",
     "text": [
      "Enter the integer for which you want multiple :12\n",
      "Enter the integer for which you want multiple :6\n",
      "Number count of common factors of 12 and 6 : 4\n",
      "Common factors between 12 and 6 are :  [1, 2, 3, 6]\n"
     ]
    }
   ],
   "source": [
    "a = int(input(\"Enter the integer for which you want multiple :\" ))\n",
    "list_a = [i for i in range(1 ,a + 1) if a%i == 0]\n",
    "b = int(input(\"Enter the integer for which you want multiple :\" ))\n",
    "list_b = [i for i in range(1 , b + 1) if b%i == 0]\n",
    "com_fac =[]\n",
    "for i in list_a:\n",
    "    if i in list_b:\n",
    "        com_fac.append(i)\n",
    "print(f\"Number count of common factors of {a} and {b} :\", len(com_fac))\n",
    "print(f\"Common factors between {a} and {b} are : \", com_fac )"
   ]
  }
 ],
 "metadata": {
  "kernelspec": {
   "display_name": "Python 3 (ipykernel)",
   "language": "python",
   "name": "python3"
  },
  "language_info": {
   "codemirror_mode": {
    "name": "ipython",
    "version": 3
   },
   "file_extension": ".py",
   "mimetype": "text/x-python",
   "name": "python",
   "nbconvert_exporter": "python",
   "pygments_lexer": "ipython3",
   "version": "3.11.4"
  }
 },
 "nbformat": 4,
 "nbformat_minor": 5
}
