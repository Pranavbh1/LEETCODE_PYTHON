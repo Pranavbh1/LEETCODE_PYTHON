{
 "cells": [
  {
   "cell_type": "markdown",
   "id": "3d1ae1fd",
   "metadata": {},
   "source": [
    "# Given a positive integer n , return the smallest positive integer that is a multiple of both 2 and n ?"
   ]
  },
  {
   "cell_type": "code",
   "execution_count": 1,
   "id": "4d3d499d",
   "metadata": {},
   "outputs": [
    {
     "name": "stdout",
     "output_type": "stream",
     "text": [
      "Enter a positive integer n :5\n"
     ]
    },
    {
     "data": {
      "text/plain": [
       "[10]"
      ]
     },
     "execution_count": 1,
     "metadata": {},
     "output_type": "execute_result"
    }
   ],
   "source": [
    "n = int(input(\"Enter a positive integer n :\"))\n",
    "[n if n%2 == 0 else n*2 ]"
   ]
  }
 ],
 "metadata": {
  "kernelspec": {
   "display_name": "Python 3 (ipykernel)",
   "language": "python",
   "name": "python3"
  },
  "language_info": {
   "codemirror_mode": {
    "name": "ipython",
    "version": 3
   },
   "file_extension": ".py",
   "mimetype": "text/x-python",
   "name": "python",
   "nbconvert_exporter": "python",
   "pygments_lexer": "ipython3",
   "version": "3.11.4"
  }
 },
 "nbformat": 4,
 "nbformat_minor": 5
}
