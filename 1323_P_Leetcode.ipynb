{
 "cells": [
  {
   "cell_type": "markdown",
   "id": "73206279",
   "metadata": {},
   "source": [
    "# You are given a positive integer num consisting only of digits 6 and 9. Return the maximum number you can get by changing at most one digit (6 becomes 9, and 9 becomes 6)."
   ]
  },
  {
   "cell_type": "code",
   "execution_count": 1,
   "id": "b8b53f01",
   "metadata": {},
   "outputs": [
    {
     "name": "stdout",
     "output_type": "stream",
     "text": [
      "9669\n",
      "9969\n"
     ]
    }
   ],
   "source": [
    "n = input()\n",
    "ans =\"\"\n",
    "flag = 0\n",
    "for digit in n :\n",
    "    if digit == '6' and flag == 0 :\n",
    "        ans = ans + '9'\n",
    "        flag = 1\n",
    "    else :\n",
    "        ans = ans + digit\n",
    "print(ans)"
   ]
  }
 ],
 "metadata": {
  "kernelspec": {
   "display_name": "Python 3 (ipykernel)",
   "language": "python",
   "name": "python3"
  },
  "language_info": {
   "codemirror_mode": {
    "name": "ipython",
    "version": 3
   },
   "file_extension": ".py",
   "mimetype": "text/x-python",
   "name": "python",
   "nbconvert_exporter": "python",
   "pygments_lexer": "ipython3",
   "version": "3.11.4"
  }
 },
 "nbformat": 4,
 "nbformat_minor": 5
}
