{
 "cells": [
  {
   "cell_type": "markdown",
   "id": "9874ecee",
   "metadata": {},
   "source": [
    "# Given an array nums containing n distinct numbers in the range [ 0 , n] , return the only (single) number in the range that is missing from the array ?"
   ]
  },
  {
   "cell_type": "code",
   "execution_count": 1,
   "id": "1a65a438",
   "metadata": {},
   "outputs": [
    {
     "name": "stdout",
     "output_type": "stream",
     "text": [
      "3,0,1\n",
      "2\n"
     ]
    }
   ],
   "source": [
    "#Robust way \n",
    "#Sum of range [0,n] - sum of given list                #substraction\n",
    "num_list = list(map(int, input().split(\",\")))\n",
    "n = len(num_list)\n",
    "sum_n = []\n",
    "for i in num_list:\n",
    "    sum_n.append(i)\n",
    "print((n*(n+1)//2)-sum(sum_n))"
   ]
  },
  {
   "cell_type": "code",
   "execution_count": null,
   "id": "f7ae700f",
   "metadata": {},
   "outputs": [],
   "source": []
  }
 ],
 "metadata": {
  "kernelspec": {
   "display_name": "Python 3 (ipykernel)",
   "language": "python",
   "name": "python3"
  },
  "language_info": {
   "codemirror_mode": {
    "name": "ipython",
    "version": 3
   },
   "file_extension": ".py",
   "mimetype": "text/x-python",
   "name": "python",
   "nbconvert_exporter": "python",
   "pygments_lexer": "ipython3",
   "version": "3.11.4"
  }
 },
 "nbformat": 4,
 "nbformat_minor": 5
}
