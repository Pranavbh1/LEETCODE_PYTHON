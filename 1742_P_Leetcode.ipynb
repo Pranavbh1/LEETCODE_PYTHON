{
 "cells": [
  {
   "cell_type": "markdown",
   "id": "9953034f",
   "metadata": {},
   "source": [
    "# you are working in a ball factory where you have n balls numbered from LOWLIMIT up to HIGHLIMIT inclusive(i.e. n== HIGHLIMIT - LOWLIMIT +1 ) ,and an infinite number of boxes numbered from 1 to infinity . your job at this factory is to put each ball in the box with a number equal to the sum of digits of the ball's number . For example , at the ball number 231 will be put in the box number 3 + 2 + 1 = 6 and the ball number 10 will be put in the box number1 + 0 = 1. Given two integers LOWLIMIT and HIGHLIMIT , return the number of balls in the box with the most balls .¶"
   ]
  },
  {
   "cell_type": "code",
   "execution_count": 1,
   "id": "171fe16e",
   "metadata": {},
   "outputs": [],
   "source": [
    "import numpy as np"
   ]
  },
  {
   "cell_type": "code",
   "execution_count": 2,
   "id": "256a652c",
   "metadata": {},
   "outputs": [
    {
     "name": "stdout",
     "output_type": "stream",
     "text": [
      "HIGHLIMIT : 10\n",
      "LOWLIMIT : 1\n",
      "Box 1 has the most number of balls with 2 balls.\n"
     ]
    }
   ],
   "source": [
    "HL = int(input(\"HIGHLIMIT : \"))\n",
    "LL = int(input(\"LOWLIMIT : \"))\n",
    "n = HL - LL + 1  #number of balls\n",
    "#Box are from 1 to infinity\n",
    "ball_count = [0] * 46                                    # Creating list of ball count\n",
    "for ball_num in range(LL, HL + 1):\n",
    "            box = 0\n",
    "            while ball_num:\n",
    "                box += ball_num % 10                     #box = box + x % 10   \n",
    "                ball_num //= 10                          #ball_num = ball_num//10\n",
    "            ball_count[box] += 1                         # ball_count[box] = ball_count[box] + 1  can go max upto 46\n",
    "            \n",
    "print(f\"Box {box} has the most number of balls with {max(ball_count)} balls.\")"
   ]
  }
 ],
 "metadata": {
  "kernelspec": {
   "display_name": "Python 3 (ipykernel)",
   "language": "python",
   "name": "python3"
  },
  "language_info": {
   "codemirror_mode": {
    "name": "ipython",
    "version": 3
   },
   "file_extension": ".py",
   "mimetype": "text/x-python",
   "name": "python",
   "nbconvert_exporter": "python",
   "pygments_lexer": "ipython3",
   "version": "3.11.4"
  }
 },
 "nbformat": 4,
 "nbformat_minor": 5
}
